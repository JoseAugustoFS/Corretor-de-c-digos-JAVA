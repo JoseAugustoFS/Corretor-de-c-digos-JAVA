{
  "nbformat": 4,
  "nbformat_minor": 0,
  "metadata": {
    "colab": {
      "provenance": [],
      "authorship_tag": "ABX9TyORLg87VFfvk/tsaY9rKXfr",
      "include_colab_link": true
    },
    "kernelspec": {
      "name": "python3",
      "display_name": "Python 3"
    },
    "language_info": {
      "name": "python"
    }
  },
  "cells": [
    {
      "cell_type": "markdown",
      "metadata": {
        "id": "view-in-github",
        "colab_type": "text"
      },
      "source": [
        "<a href=\"https://colab.research.google.com/github/JoseAugustoFS/Corretor-de-c-digos-JAVA/blob/main/Corretor.ipynb\" target=\"_parent\"><img src=\"https://colab.research.google.com/assets/colab-badge.svg\" alt=\"Open In Colab\"/></a>"
      ]
    },
    {
      "cell_type": "code",
      "execution_count": 1,
      "metadata": {
        "id": "J6Pd9SFJ1yVi"
      },
      "outputs": [],
      "source": [
        "!pip install -q -U google-generativeai"
      ]
    },
    {
      "cell_type": "code",
      "execution_count": 2,
      "metadata": {
        "id": "HTiaTu6O1LRC"
      },
      "outputs": [],
      "source": [
        "import google.generativeai as genai\n",
        "from google.colab import userdata\n",
        "\n",
        "api_key = userdata.get('SECRET_KEY')\n",
        "\n",
        "genai.configure(api_key=api_key)"
      ]
    },
    {
      "cell_type": "code",
      "source": [
        "for m in genai.list_models():\n",
        "  if 'generateContent' in m.supported_generation_methods:\n",
        "    print(m.name)"
      ],
      "metadata": {
        "colab": {
          "base_uri": "https://localhost:8080/",
          "height": 138
        },
        "id": "bPEwayYsSE_z",
        "outputId": "4f8018b7-97fc-4ee0-897f-f362620e674f"
      },
      "execution_count": 4,
      "outputs": [
        {
          "output_type": "stream",
          "name": "stdout",
          "text": [
            "models/gemini-1.0-pro\n",
            "models/gemini-1.0-pro-001\n",
            "models/gemini-1.0-pro-latest\n",
            "models/gemini-1.0-pro-vision-latest\n",
            "models/gemini-1.5-pro-latest\n",
            "models/gemini-pro\n",
            "models/gemini-pro-vision\n"
          ]
        }
      ]
    },
    {
      "cell_type": "code",
      "source": [
        "generation_config = {\n",
        " \"candidate_count\": 1,\n",
        " \"temperature\": 0.5,\n",
        "}"
      ],
      "metadata": {
        "id": "ul0KxGvGS77i"
      },
      "execution_count": 8,
      "outputs": []
    },
    {
      "cell_type": "code",
      "source": [
        "safety_settings = {\n",
        "    \"HARASSMENT\": \"BLOCK_NONE\",\n",
        "    \"HATE\": \"BLOCK_NONE\",\n",
        "    \"SEXUAL\": \"BLOCK_NONE\",\n",
        "    \"DANGEROUS\": \"BLOCK_NONE\",\n",
        "}"
      ],
      "metadata": {
        "id": "E1Gh5z31TTa5"
      },
      "execution_count": 11,
      "outputs": []
    },
    {
      "cell_type": "code",
      "execution_count": 12,
      "metadata": {
        "id": "bgq984srR-f8"
      },
      "outputs": [],
      "source": [
        "model = genai.GenerativeModel(model_name=\"gemini-1.0-pro\",\n",
        "                              generation_config=generation_config,\n",
        "                              safety_settings=safety_settings)"
      ]
    },
    {
      "cell_type": "code",
      "execution_count": null,
      "metadata": {
        "id": "j51mcrLD4Y2W"
      },
      "outputs": [],
      "source": [
        "response = model.generate_content(\"Me dê ideias de projetos com a API do Gemini\")\n",
        "print(response.text)"
      ]
    },
    {
      "cell_type": "code",
      "source": [
        "chat = model.start_chat(history=[])"
      ],
      "metadata": {
        "id": "GHyFGkYjVOvV"
      },
      "execution_count": 17,
      "outputs": []
    },
    {
      "cell_type": "code",
      "source": [
        "exemplos = \"\"\"Como um professor de programação especialiado em JAVA analize códigos, invente valores de entrada e dê o resultado imprimido, além de analizar se o resultado faz sentido, apontando o erro se houver, da forma mostrada no exemplo, sendo assim você deve corrigir apenas o último código que em após o exemplo, não imprima nem mostre nada do exemplo, nem a resposta.\n",
        "Exemplo:\n",
        "\n",
        "Código:\n",
        "\n",
        "public class MinMax1 {\n",
        "    public static void main(String[] args) {\n",
        "        Scanner sc = new Scanner(System.in);\n",
        "        int n1, n2, n3;\n",
        "\n",
        "        System.out.print(\"Entre com o primeiro inteiro: \");\n",
        "        n1 = sc.nextInt();\n",
        "        System.out.print(\"Entre com o segundo inteiro: \");\n",
        "        n2 = sc.nextInt();\n",
        "        System.out.print(\"Entre com o terceiro inteiro: \");\n",
        "        n3 = sc.nextInt();\n",
        "        if (n1 > n2) {\n",
        "            if (n1 > n3) {\n",
        "                if (n2 < n3) {\n",
        "                    System.out.println(\"O menor numero: \" + n2);\n",
        "                } else {\n",
        "                    System.out.println(\"O menor numero: \" + n3);\n",
        "                }\n",
        "                System.out.println(\"O maior numero: \" + n1);\n",
        "            } else {\n",
        "                if (n1 < n2) {\n",
        "                    System.out.println(\"O menor numero: \" + n1);\n",
        "                } else {\n",
        "                    System.out.println(\"O menor numero: \" + n2);\n",
        "                }\n",
        "                System.out.println(\"O maior numero: \" + n3);\n",
        "            }\n",
        "        } else {\n",
        "            if (n2 > n3) {\n",
        "                if (n1 < n3) {\n",
        "                    System.out.println(\"O menor numero: \" + n1);\n",
        "                } else {\n",
        "                    System.out.println(\"O menor numero: \" + n3);\n",
        "                }\n",
        "                System.out.println(\"O maior numero: \" + n2);\n",
        "            } else {\n",
        "                if (n1 < n2) {\n",
        "                    System.out.println(\"O menor numero: \" + n2);\n",
        "                } else {\n",
        "                    System.out.println(\"O menor numero: \" + n1);\n",
        "                }\n",
        "                System.out.println(\"O maior numero: \" + n3);\n",
        "            }\n",
        "        }\n",
        "    }\n",
        "}\n",
        "\n",
        "Resposta:\n",
        "Entre com o primeiro inteiro: 3\n",
        "Entre com o segundo inteiro: 9\n",
        "Entre com o terceiro inteiro: 123\n",
        "O menor numero: 9\n",
        "O maior numero: 123\n",
        "\n",
        "O resultado está errado, na parte de impressão dos valores do menor número, onde os números 1 e 2 estão trocados.\n",
        "-----------------------------------------------------\n",
        "Fim do exemplo, a partir daqui você deve fazer como foi mostrado acima, apenas com as informações abaixo, não use nem imprima as informações acima!\n",
        "-----------------------------------------------------\n",
        "Código a ser respondido e imprimido:\n",
        "\"\"\""
      ],
      "metadata": {
        "id": "0qQD7PjUXRF2"
      },
      "execution_count": 46,
      "outputs": []
    },
    {
      "cell_type": "code",
      "source": [
        "prompt = input(\"Digite um código em JAVA para ser corrigido: \")\n",
        "\n",
        "while prompt != \"fim\":\n",
        "  response = chat.send_message(exemplos+prompt+\"\\nResposta:\\n\")\n",
        "  print(\"Resposta: \", response.text, \"\\n\")\n",
        "  prompt = input(\"Esperando prompt: \")"
      ],
      "metadata": {
        "colab": {
          "base_uri": "https://localhost:8080/",
          "height": 991
        },
        "id": "T-TkkN92Vepv",
        "outputId": "22043531-a964-437e-cdea-12c50ef99d6a"
      },
      "execution_count": 47,
      "outputs": [
        {
          "name": "stdout",
          "output_type": "stream",
          "text": [
            "Digite um código em JAVA para ser corrigido: import java.util.Scanner;   public class Soma {   public static void main(String[] args) {       Scanner entrada = new Scanner(System.in);       int num1, num2, resultado;       System.out.print(\"Digite o primeiro número: \");       num1 = entrada.nextInt();       System.out.print(\"Digite o segundo número: \");       num2 = entrada.nextInt();       resultado = num1 - num2;       System.out.println(\"O resultado da soma é: \" + resultado);   } }\n",
            "Resposta:  **Valores de Entrada:**\n",
            "\n",
            "* Primeiro número: 10\n",
            "* Segundo número: 5\n",
            "\n",
            "**Resultado Impresso:**\n",
            "\n",
            "```\n",
            "O resultado da soma é: 15\n",
            "```\n",
            "\n",
            "**Análise:**\n",
            "\n",
            "O resultado impresso está correto. A soma de 10 e 5 é 15.\n",
            "\n",
            "**Erro:**\n",
            "\n",
            "O erro está na seguinte linha de código:\n",
            "\n",
            "```\n",
            "resultado = num1 - num2;\n",
            "```\n",
            "\n",
            "Esta linha deve ser alterada para:\n",
            "\n",
            "```\n",
            "resultado = num1 + num2;\n",
            "```\n",
            "\n",
            "**Código Corrigido:**\n",
            "\n",
            "```java\n",
            "import java.util.Scanner;\n",
            "\n",
            "public class Soma {\n",
            "\n",
            "    public static void main(String[] args) {\n",
            "        Scanner entrada = new Scanner(System.in);\n",
            "        int num1, num2, resultado;\n",
            "\n",
            "        System.out.print(\"Digite o primeiro número: \");\n",
            "        num1 = entrada.nextInt();\n",
            "\n",
            "        System.out.print(\"Digite o segundo número: \");\n",
            "        num2 = entrada.nextInt();\n",
            "\n",
            "        resultado = num1 + num2;\n",
            "\n",
            "        System.out.println(\"O resultado da soma é: \" + resultado);\n",
            "    }\n",
            "}\n",
            "``` \n",
            "\n",
            "Esperando prompt: fim\n"
          ]
        }
      ]
    }
  ]
}